{
 "cells": [
  {
   "cell_type": "code",
   "execution_count": 1,
   "metadata": {},
   "outputs": [],
   "source": [
    "import tensorflow as tf\n",
    "import numpy as np\n",
    "import os\n",
    "\n",
    "os.environ[\"CUDA_VISIBLE_DEVICES\"]=str(\"2\")\n"
   ]
  },
  {
   "cell_type": "code",
   "execution_count": 2,
   "metadata": {},
   "outputs": [],
   "source": [
    "FF_input_scale = tf.exp(tf.Variable(np.zeros(4,dtype = np.float32),name = \"feedforward_inp\"))*np.float32(np.array([1,1,0,0]))\n",
    "LAT_input_scale = tf.exp(tf.Variable(np.zeros(4,dtype = np.float32),name = \"lateral_inp\"))\n",
    "\n",
    "#FB_input_scale = tf.exp(-tf.Variable(np.ones(4,dtype = np.float32),name = \"feeedback_inp\"))\n",
    "FB_input_scale = tf.exp(tf.Variable(np.float32(np.log([12.8,24,8,9.6])-5),name = \"feedback_inp\"))\n",
    "AR_input_scale = (tf.exp(tf.Variable(np.ones(4,dtype = np.float32),name = \"arousal_inp\")) - 1)*FB_input_scale\n",
    "\n",
    "#FB_input_scale = 0.\n",
    "#AR_input_scale = tf.exp(tf.Variable(np.ones(4,dtype = np.float32),name = \"feeedback_inp\"))\n",
    "\n",
    "ff_lam = tf.exp(tf.Variable(np.float32(np.log(10.)),name = \"feedforward_shape_parameter\"))\n",
    "lat_lam = tf.exp(tf.Variable(np.float32(np.log(10.)),name = \"lateral_shape_parameter\"))\n",
    "\n",
    "input_size = tf.placeholder(tf.float32,shape = [None,1])\n",
    "input_arousal = tf.placeholder(tf.float32,shape = [None,1])"
   ]
  },
  {
   "cell_type": "code",
   "execution_count": 3,
   "metadata": {},
   "outputs": [],
   "source": [
    "def lat_input(R):\n",
    "    return 1. - tf.exp(-tf.abs(R)/lat_lam)\n",
    "    #return tf.nn.sigmoid(R - lat_lam)\n",
    "def ff_input(R):\n",
    "    return tf.erf(tf.abs(R)/ff_lam)"
   ]
  },
  {
   "cell_type": "code",
   "execution_count": 4,
   "metadata": {},
   "outputs": [],
   "source": [
    "\n",
    "dt = .001\n",
    "tau_E = .02\n",
    "tau_I = .01\n",
    "\n",
    "tau = np.float32(np.array([tau_E,tau_I,tau_I,tau_I]))\n",
    "\n",
    "n = 2.2\n",
    "k = tf.exp(tf.Variable(np.float32(np.log(.1)),trainable = True,name = \"k\"))\n",
    "\n",
    "T = 1.\n",
    "nt = int(T/dt)\n",
    "\n",
    "W = np.float32(np.array([[1,1,1,1],[1,1,1,1],[1,1,0,1],[1,0,1,0]])*np.array([[1,-1,-1,-1]]))*tf.exp(tf.Variable(np.log(np.float32(np.array([[.017,.956,.045,.512],\n",
    "              [.8535,.99,.09,.307],\n",
    "              [2.104,.184,1,.734],\n",
    "              [1.285,1,.14,1]]))) - 3,trainable = True,name = \"W\"))\n"
   ]
  },
  {
   "cell_type": "code",
   "execution_count": 5,
   "metadata": {},
   "outputs": [
    {
     "name": "stdout",
     "output_type": "stream",
     "text": [
      "(?, 1000, 4)\n"
     ]
    }
   ],
   "source": [
    "MAX_RATE = 1000\n",
    "\n",
    "def ssn_nonlinearity(V,n):\n",
    "    return tf.pow(tf.clip_by_value(V,clip_value_min = 0,clip_value_max = MAX_RATE),n)\n",
    "\n",
    "def get_next_SSN_state(state,A,lat_inp,ff_inp,W,k,n,tau,dt):\n",
    "    ffI = ff_inp *  tf.expand_dims(FF_input_scale,0)\n",
    "    laI = lat_inp * tf.expand_dims(LAT_input_scale,0)\n",
    "    fbI = tf.expand_dims(FB_input_scale,0) + A * tf.expand_dims(AR_input_scale,0)\n",
    "   \n",
    "    Vi = tf.tensordot(state,W,axes = [[1],[1]]) + ffI + laI + fbI\n",
    "    R = k*ssn_nonlinearity(Vi,n)\n",
    "\n",
    "    \n",
    "    return state + dt*(-state + R)/tf.expand_dims(tau,0)\n",
    "    \n",
    "init_state = tf.tile(0*input_size,(1,4))\n",
    "\n",
    "states = tf.scan(lambda x,i: get_next_SSN_state(x,\n",
    "                                              input_arousal,\n",
    "                                              lat_input(input_size),\n",
    "                                              ff_input(input_size),\n",
    "                                              W,\n",
    "                                              k,\n",
    "                                              n,\n",
    "                                              tau,\n",
    "                                              dt),\n",
    "                 tf.range(nt),init_state)\n",
    "states = tf.transpose(states,[1,0,2])\n",
    "print(states.shape)\n",
    "                     "
   ]
  },
  {
   "cell_type": "code",
   "execution_count": 6,
   "metadata": {},
   "outputs": [],
   "source": [
    "test_time = .1\n",
    "test_nt = int(test_time/dt)\n",
    "\n",
    "target_rates = tf.placeholder(tf.float32,(None,4))\n",
    "loss = tf.reduce_mean((tf.expand_dims(target_rates,1) - states[:,-test_nt:])**2)\n",
    "adam = tf.train.AdamOptimizer(learning_rate = .01)\n",
    "train = adam.minimize(loss)"
   ]
  },
  {
   "cell_type": "code",
   "execution_count": 7,
   "metadata": {},
   "outputs": [],
   "source": [
    "def load(f):\n",
    "    F = open(f,\"r\")\n",
    "    out = []\n",
    "    label = []\n",
    "    for l in F:\n",
    "        temp = [float(t) for t in l.split(\",\")]\n",
    "        out.append(temp)\n",
    "    F.close()\n",
    "    return np.array(out)\n",
    "\n",
    "PYR_targets = load(\"./DiPoppaData/Pyr_DiPoppa.csv\")\n",
    "PVAL_targets = load(\"./DiPoppaData/Pvalb_DiPoppa.csv\")\n",
    "SOM_targets = load(\"./DiPoppaData/SOM_DiPoppa.csv\")\n",
    "VIP_targets = load(\"./DiPoppaData/ViP_DiPoppa.csv\")\n",
    "\n",
    "data_names = [\"Pyramidal\",\"Parvalubin\",\"ViP\",\"Somatostatin\"]\n",
    "\n",
    "PYR_targets.shape\n",
    "\n",
    "data = np.stack([PYR_targets,PVAL_targets,VIP_targets,SOM_targets],-1)\n",
    "data = np.reshape(data,[2,10,2,4])\n",
    "\n",
    "data_stim_size = data[:,:,0,0]\n",
    "data_response = data[:,:,1,:]\n",
    "data_arousal = np.stack([np.zeros_like(data[0,:,0,0]),np.ones_like(data[0,:,0,0])],0)\n",
    "\n",
    "data_stim_size = np.float32(np.reshape(data_stim_size,[-1,1]))\n",
    "data_arousal = np.float32(np.reshape(data_arousal,[-1,1]))\n",
    "data_response = np.float32(np.reshape(data_response,[-1,4]))"
   ]
  },
  {
   "cell_type": "code",
   "execution_count": 8,
   "metadata": {},
   "outputs": [
    {
     "name": "stdout",
     "output_type": "stream",
     "text": [
      "[[ 0.00084638 -0.04759643 -0.00224042 -0.02549098]\n",
      " [ 0.04249326 -0.0492892  -0.00448084 -0.01528463]\n",
      " [ 0.10475198 -0.00916082  0.         -0.0365437 ]\n",
      " [ 0.06397638  0.         -0.00697019  0.        ]]\n",
      "(2, 10, 4)\n"
     ]
    },
    {
     "data": {
      "image/png": "[encoded data removed]",
      "text/plain": [
       "<matplotlib.figure.Figure at 0x7f2a91446780>"
      ]
     },
     "metadata": {},
     "output_type": "display_data"
    },
    {
     "data": {
      "image/png": "[encoded data removed]",
      "text/plain": [
       "<matplotlib.figure.Figure at 0x7f2a6863f710>"
      ]
     },
     "metadata": {},
     "output_type": "display_data"
    }
   ],
   "source": [
    "init = tf.global_variables_initializer()\n",
    "config = tf.ConfigProto(device_count = {'GPU': 0})\n",
    "sess = tf.Session(config=config)\n",
    "sess.run(init)\n",
    "\n",
    "responses,latin,ffin,ww = sess.run([states,lat_input(input_size),\n",
    "                                              ff_input(input_size),W],{input_arousal:data_arousal,input_size:data_stim_size})\n",
    "\n",
    "print(ww)\n",
    "OUT = np.mean(np.reshape(responses[:,-test_nt:],[2,10,-1,4]),axis = 2)\n",
    "print(OUT.shape)\n",
    "true_resp = np.reshape(data_response,[2,10,4])\n",
    "\n",
    "latin = np.reshape(latin,[2,10])\n",
    "ffin = np.reshape(ffin,[2,10])\n",
    "\n",
    "import matplotlib.pyplot as plt\n",
    "\n",
    "fig,sub = plt.subplots(2,2,figsize = (4,4))\n",
    "\n",
    "for i in range(2):\n",
    "    for j in range(2):\n",
    "        sub[i,j].plot(data_stim_size[:10],OUT[0,:,i + 2*j],\"r\")\n",
    "        sub[i,j].plot(data_stim_size[:10],OUT[1,:,i + 2*j],\"k\")\n",
    "        \n",
    "        sub[i,j].plot(data_stim_size[:10],true_resp[0,:,i + 2*j],\"r--\")\n",
    "        sub[i,j].plot(data_stim_size[:10],true_resp[1,:,i + 2*j],\"k--\")\n",
    "        sub[i,j].set_title(data_names[i+2*j])\n",
    "        sub[i,j].set_xlabel(\"Diameter\")\n",
    "        sub[i,j].set_ylabel(\"Response\")\n",
    "\n",
    "\n",
    "plt.tight_layout()\n",
    "plt.show()\n",
    "\n",
    "plt.plot(data_stim_size[:10],ffin[0,:],\"r\")\n",
    "plt.plot(data_stim_size[:10],ffin[1,:],\"k\")\n",
    "plt.plot(data_stim_size[:10],latin[0,:],\"r--\")\n",
    "plt.plot(data_stim_size[:10],latin[1,:],\"k--\")\n",
    "plt.show()\n",
    "sess.close()"
   ]
  },
  {
   "cell_type": "code",
   "execution_count": 9,
   "metadata": {},
   "outputs": [
    {
     "name": "stdout",
     "output_type": "stream",
     "text": [
      "['feedforward_inp:0', 'lateral_inp:0', 'feedback_inp:0', 'arousal_inp:0', 'feedforward_shape_parameter:0', 'lateral_shape_parameter:0', 'k:0', 'W:0']\n"
     ]
    }
   ],
   "source": [
    "variables = tf.trainable_variables()\n",
    "vnames = [v.name for v in variables]\n",
    "\n",
    "print(vnames)"
   ]
  },
  {
   "cell_type": "code",
   "execution_count": 10,
   "metadata": {},
   "outputs": [
    {
     "name": "stdout",
     "output_type": "stream",
     "text": [
      "0\t0.9758963584899902\n",
      "10\t0.8663613796234131\n",
      "20\t0.7606677412986755\n",
      "30\t0.6607081890106201\n",
      "40\t0.5528415441513062\n",
      "50\t0.45425885915756226\n",
      "60\t0.39797723293304443\n",
      "70\t0.3618915379047394\n",
      "80\t0.33606821298599243\n",
      "90\t0.31812989711761475\n",
      "100\t0.3058471977710724\n",
      "110\t0.29689112305641174\n",
      "120\t0.29007285833358765\n",
      "130\t0.28470268845558167\n",
      "140\t0.2803492546081543\n",
      "150\t0.2767469584941864\n",
      "160\t0.2737046778202057\n",
      "170\t0.27108684182167053\n",
      "180\t0.26879096031188965\n",
      "190\t0.2667383849620819\n",
      "200\t0.26486536860466003\n",
      "210\t0.2631186544895172\n",
      "220\t0.26145124435424805\n",
      "230\t0.25981926918029785\n",
      "240\t0.2581794261932373\n",
      "250\t0.25648579001426697\n",
      "260\t0.2546868920326233\n",
      "270\t0.252722829580307\n",
      "280\t0.25052154064178467\n",
      "290\t0.24799680709838867\n",
      "300\t0.24504895508289337\n",
      "310\t0.24157482385635376\n",
      "320\t0.23749585449695587\n",
      "330\t0.23281681537628174\n",
      "340\t0.22771547734737396\n",
      "350\t0.22260212898254395\n",
      "360\t0.21797195076942444\n",
      "370\t0.2139090895652771\n",
      "380\t0.20973257720470428\n",
      "390\t0.2045520395040512\n",
      "400\t0.19789350032806396\n",
      "410\t0.18961894512176514\n",
      "420\t0.1800234615802765\n",
      "430\t0.17030152678489685\n",
      "440\t0.16246391832828522\n",
      "450\t0.15759851038455963\n",
      "460\t0.1543172001838684\n",
      "470\t0.15094217658042908\n",
      "480\t0.14732131361961365\n",
      "490\t0.14353865385055542\n",
      "500\t0.13934291899204254\n",
      "510\t0.13447538018226624\n",
      "520\t0.12898969650268555\n",
      "530\t0.12337982654571533\n",
      "540\t0.11820503324270248\n",
      "550\t0.11410484462976456\n",
      "560\t0.11152072250843048\n",
      "570\t0.11001458764076233\n",
      "580\t0.10893429815769196\n",
      "590\t0.1081058531999588\n",
      "600\t0.10751710832118988\n",
      "610\t0.10707148909568787\n",
      "620\t0.10668373107910156\n",
      "630\t0.10631385445594788\n",
      "640\t0.10594285279512405\n",
      "650\t0.10556142032146454\n",
      "660\t0.10516804456710815\n",
      "670\t0.10476617515087128\n",
      "680\t0.10436173528432846\n",
      "690\t0.10396046191453934\n",
      "700\t0.10356510430574417\n",
      "710\t0.10317469388246536\n",
      "720\t0.10278459638357162\n",
      "730\t0.10238556563854218\n",
      "740\t0.10196340084075928\n",
      "750\t0.10149651765823364\n",
      "760\t0.10095257312059402\n",
      "770\t0.10028449445962906\n",
      "780\t0.09943079948425293\n",
      "790\t0.09833461791276932\n",
      "800\t0.09695632010698318\n",
      "810\t0.09514903277158737\n",
      "820\t0.09265796095132828\n",
      "830\t0.08941132575273514\n",
      "840\t0.08528721332550049\n",
      "850\t0.08071292191743851\n",
      "860\t0.07629570364952087\n",
      "870\t0.07229098677635193\n",
      "880\t0.06856287270784378\n",
      "890\t0.06539519131183624\n",
      "900\t0.06292404234409332\n",
      "910\t0.060915637761354446\n",
      "920\t0.05937277898192406\n",
      "930\t0.057612162083387375\n",
      "940\t0.0557977594435215\n",
      "950\t0.0535484179854393\n",
      "960\t0.05065617337822914\n",
      "970\t0.048538412898778915\n",
      "980\t0.046009596437215805\n",
      "990\t0.04381842911243439\n"
     ]
    }
   ],
   "source": [
    "init = tf.global_variables_initializer()\n",
    "#config = tf.ConfigProto(device_count = {'GPU': 1})\n",
    "#sess = tf.Session(config=config)\n",
    "sess = tf.Session()\n",
    "sess.run(init)\n",
    "\n",
    "for k in range(1000):\n",
    "    _,train_loss = sess.run([train,loss],{input_arousal:data_arousal,input_size:data_stim_size,target_rates:data_response})\n",
    "    if k%10 == 0:\n",
    "        print(\"{}\\t{}\".format(k,train_loss))\n",
    "        \n",
    "responses = sess.run(states,{input_arousal:data_arousal,input_size:data_stim_size})\n",
    "\n",
    "parameters = sess.run(variables)"
   ]
  },
  {
   "cell_type": "code",
   "execution_count": 11,
   "metadata": {},
   "outputs": [],
   "source": [
    "sess.close()"
   ]
  },
  {
   "cell_type": "code",
   "execution_count": 12,
   "metadata": {},
   "outputs": [
    {
     "data": {
      "text/plain": [
       "(20, 1000, 4)"
      ]
     },
     "execution_count": 12,
     "metadata": {},
     "output_type": "execute_result"
    }
   ],
   "source": [
    "responses.shape"
   ]
  },
  {
   "cell_type": "code",
   "execution_count": 13,
   "metadata": {},
   "outputs": [
    {
     "name": "stdout",
     "output_type": "stream",
     "text": [
      "(2, 10, 4)\n"
     ]
    }
   ],
   "source": [
    "OUT = np.mean(np.reshape(responses[:,-test_nt:],[2,10,-1,4]),axis = 2)\n",
    "print(OUT.shape)\n",
    "true_resp = np.reshape(data_response,[2,10,4])"
   ]
  },
  {
   "cell_type": "code",
   "execution_count": 14,
   "metadata": {},
   "outputs": [
    {
     "data": {
      "image/png": "[encoded data removed]",
      "text/plain": [
       "<matplotlib.figure.Figure at 0x7f2a914465f8>"
      ]
     },
     "metadata": {},
     "output_type": "display_data"
    }
   ],
   "source": [
    "import matplotlib.pyplot as plt\n",
    "\n",
    "fig,sub = plt.subplots(2,2,figsize = (4,4))\n",
    "\n",
    "for i in range(2):\n",
    "    for j in range(2):\n",
    "        sub[i,j].plot(data_stim_size[:10],OUT[0,:,i + 2*j],\"r\")\n",
    "        sub[i,j].plot(data_stim_size[:10],OUT[1,:,i + 2*j],\"k\")\n",
    "        \n",
    "        sub[i,j].plot(data_stim_size[:10],true_resp[0,:,i + 2*j],\"r--\")\n",
    "        sub[i,j].plot(data_stim_size[:10],true_resp[1,:,i + 2*j],\"k--\")\n",
    "        sub[i,j].set_title(data_names[i+2*j])\n",
    "        sub[i,j].set_xlabel(\"Diameter\")\n",
    "        sub[i,j].set_ylabel(\"Response\")\n",
    "\n",
    "\n",
    "plt.tight_layout()\n",
    "plt.savefig(\"./initial_multi_cell_fit.pdf\",bbox_inches = \"tight\")\n",
    "plt.show()"
   ]
  },
  {
   "cell_type": "code",
   "execution_count": 15,
   "metadata": {},
   "outputs": [],
   "source": [
    "import utilities as utils \n",
    "\n",
    "utils.dump_file(\"./parameter_file\",parameters)\n",
    "utils.dump_file(\"./parameter_names\",vnames)"
   ]
  },
  {
   "cell_type": "code",
   "execution_count": 16,
   "metadata": {},
   "outputs": [
    {
     "data": {
      "text/plain": [
       "array([[ 0.40848023, -4.8505807 , -0.92807335,  0.20382394],\n",
       "       [ 0.0394574 , -4.2240715 , -3.6442003 , -0.10350509],\n",
       "       [ 0.6684318 , -6.111399  , -3.        ,  0.59552723],\n",
       "       [-0.31398678, -3.        , -6.426245  , -3.        ]],\n",
       "      dtype=float32)"
      ]
     },
     "execution_count": 16,
     "metadata": {},
     "output_type": "execute_result"
    }
   ],
   "source": [
    "parameters[-1]"
   ]
  },
  {
   "cell_type": "code",
   "execution_count": 19,
   "metadata": {},
   "outputs": [
    {
     "data": {
      "text/plain": [
       "array([[ 1.505, -0.008, -0.395, -1.226],\n",
       "       [ 1.04 , -0.015, -0.026, -0.902],\n",
       "       [ 1.951, -0.002,  0.   , -1.814],\n",
       "       [ 0.731,  0.   , -0.002,  0.   ]], dtype=float32)"
      ]
     },
     "execution_count": 19,
     "metadata": {},
     "output_type": "execute_result"
    }
   ],
   "source": [
    "np.round(np.float32(np.array([[1,1,1,1],[1,1,1,1],[1,1,0,1],[1,0,1,0]])*np.array([[1,-1,-1,-1]]))*np.exp(parameters[-1]),3)"
   ]
  },
  {
   "cell_type": "code",
   "execution_count": 23,
   "metadata": {},
   "outputs": [
    {
     "data": {
      "text/plain": [
       "array([[ 0.017 , -0.956 , -0.045 , -0.512 ],\n",
       "       [ 0.8535, -0.99  , -0.09  , -0.307 ],\n",
       "       [ 2.104 , -0.184 , -0.    , -0.734 ],\n",
       "       [ 1.285 , -0.    , -0.14  , -0.    ]])"
      ]
     },
     "execution_count": 23,
     "metadata": {},
     "output_type": "execute_result"
    }
   ],
   "source": [
    "np.array([[1,-1,-1,-1]])*np.array([\n",
    "[.017,.956,.045,.512],\n",
    "[.8535,.99,.09,.307],\n",
    "[2.104,.184,0,.734],\n",
    "[1.285,0,.14,0]\n",
    "])"
   ]
  },
  {
   "cell_type": "code",
   "execution_count": 25,
   "metadata": {},
   "outputs": [
    {
     "data": {
      "text/plain": [
       "['feedforward_inp:0',\n",
       " 'lateral_inp:0',\n",
       " 'feedback_inp:0',\n",
       " 'arousal_inp:0',\n",
       " 'feedforward_shape_parameter:0',\n",
       " 'lateral_shape_parameter:0',\n",
       " 'k:0',\n",
       " 'W:0']"
      ]
     },
     "execution_count": 25,
     "metadata": {},
     "output_type": "execute_result"
    }
   ],
   "source": [
    "vnames"
   ]
  },
  {
   "cell_type": "code",
   "execution_count": 27,
   "metadata": {},
   "outputs": [
    {
     "name": "stdout",
     "output_type": "stream",
     "text": [
      "11.317467\n",
      "19.59946\n"
     ]
    }
   ],
   "source": [
    "print(np.exp(parameters[-4]))\n",
    "print(np.exp(parameters[-3]))"
   ]
  },
  {
   "cell_type": "code",
   "execution_count": 28,
   "metadata": {},
   "outputs": [
    {
     "name": "stdout",
     "output_type": "stream",
     "text": [
      "0.23472294\n"
     ]
    }
   ],
   "source": [
    "print(np.exp(parameters[-2]))"
   ]
  },
  {
   "cell_type": "code",
   "execution_count": null,
   "metadata": {},
   "outputs": [],
   "source": []
  }
 ],
 "metadata": {
  "kernelspec": {
   "display_name": "Python 3",
   "language": "python",
   "name": "python3"
  },
  "language_info": {
   "codemirror_mode": {
    "name": "ipython",
    "version": 3
   },
   "file_extension": ".py",
   "mimetype": "text/x-python",
   "name": "python",
   "nbconvert_exporter": "python",
   "pygments_lexer": "ipython3",
   "version": "3.5.4"
  }
 },
 "nbformat": 4,
 "nbformat_minor": 2
}
